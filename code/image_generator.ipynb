{
 "cells": [
  {
   "cell_type": "code",
   "execution_count": 38,
   "metadata": {},
   "outputs": [],
   "source": [
    "\n",
    "\n",
    "# linear algebra \n",
    "import numpy as np   \n",
    "# data processing, CSV file I / O (e.g. pd.read_csv) \n",
    "import pandas as pd   \n",
    "import os \n",
    "import tensorflow as tf \n",
    "from keras.preprocessing.sequence import pad_sequences \n",
    "from keras.preprocessing.text import Tokenizer \n",
    "from keras.models import Model \n",
    "from keras.layers import Flatten, Dense, LSTM, Dropout, Embedding, Activation \n",
    "from keras.layers import concatenate,add, BatchNormalization, Input\n",
    "\n",
    "from keras.utils import to_categorical, plot_model \n",
    "from keras.applications.inception_v3 import InceptionV3, preprocess_input \n",
    "import matplotlib.pyplot as plt  # for plotting data \n",
    "import cv2 "
   ]
  },
  {
   "cell_type": "code",
   "execution_count": 39,
   "metadata": {},
   "outputs": [
    {
     "ename": "SyntaxError",
     "evalue": "invalid syntax (2668041614.py, line 14)",
     "output_type": "error",
     "traceback": [
      "\u001b[1;36m  Cell \u001b[1;32mIn[39], line 14\u001b[1;36m\u001b[0m\n\u001b[1;33m    token_path = C:\\Users\\shanza\\Downloads\\dataset\\archive.zip\u001b[0m\n\u001b[1;37m                  ^\u001b[0m\n\u001b[1;31mSyntaxError\u001b[0m\u001b[1;31m:\u001b[0m invalid syntax\n"
     ]
    }
   ],
   "source": [
    "def load_description(text): \n",
    "\tmapping = dict() \n",
    "\tfor line in text.split(\"\\n\"): \n",
    "\t\ttoken = line.split(\"\\t\") \n",
    "\t\tif len(line) < 2: # remove short descriptions \n",
    "\t\t\tcontinue\n",
    "\t\timg_id = token[0].split('.')[0] # name of the image \n",
    "\t\timg_des = token[1]\t\t\t # description of the image \n",
    "\t\tif img_id not in mapping: \n",
    "\t\t\tmapping[img_id] = list() \n",
    "\t\tmapping[img_id].append(img_des) \n",
    "\treturn mapping \n",
    "\n",
    "token_path = r'C:/Users/shanza/Downloads/dataset/archive/flickr_data/Flickr_Data/Flickr_TextData/Flickr8k.token.txt'\n",
    "text = open(token_path, 'r', encoding = 'utf-8').read() \n",
    "descriptions = load_description(text) \n",
    "print(descriptions['1000268201_693b08cb0e'])\n"
   ]
  }
 ],
 "metadata": {
  "kernelspec": {
   "display_name": "Python 3",
   "language": "python",
   "name": "python3"
  },
  "language_info": {
   "codemirror_mode": {
    "name": "ipython",
    "version": 3
   },
   "file_extension": ".py",
   "mimetype": "text/x-python",
   "name": "python",
   "nbconvert_exporter": "python",
   "pygments_lexer": "ipython3",
   "version": "3.10.10"
  }
 },
 "nbformat": 4,
 "nbformat_minor": 2
}
